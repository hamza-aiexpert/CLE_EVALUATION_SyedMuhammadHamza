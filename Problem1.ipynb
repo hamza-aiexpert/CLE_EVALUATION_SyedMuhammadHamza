{
 "cells": [
  {
   "cell_type": "markdown",
   "source": [
    "## SYED MUHAMMAD HAMZA\n",
    "# Problem 1"
   ],
   "metadata": {
    "collapsed": false
   },
   "id": "22c622aeb58632b1"
  },
  {
   "cell_type": "code",
   "execution_count": 5,
   "outputs": [],
   "source": [
    "# For simple approach I used a difflib python library to get lcs lengths\n",
    "from difflib import SequenceMatcher\n",
    "\n",
    "def lcs_length(s1, s2):\n",
    "    matcher = SequenceMatcher(None, s1, s2)\n",
    "    match = matcher.find_longest_match(0, len(s1), 0, len(s2))\n",
    "    return match.size"
   ],
   "metadata": {
    "collapsed": false,
    "ExecuteTime": {
     "start_time": "2024-03-04T15:38:44.178025800Z"
    }
   },
   "id": "initial_id"
  },
  {
   "cell_type": "code",
   "execution_count": 6,
   "outputs": [],
   "source": [
    "# Here I have used dynamic programming techniques to find lcs Length\n",
    "# Function for calculating longest common subsequence length of 2 sentences s1 and s2 are 2 strings to check\n",
    "def lcs_length(s1, s2):\n",
    "    m = len(s1)\n",
    "    n = len(s2)\n",
    "\n",
    "    # Create a table to compare and store len of the common characters \n",
    "    table = [[0] * (n + 1) for _ in range(m + 1)]\n",
    "\n",
    "    # Building the LCS table in a bottom-up manner\n",
    "    for i in range(1, m + 1):\n",
    "        for j in range(1, n + 1):\n",
    "            if s1[i - 1] == s2[j - 1]:\n",
    "                table[i][j] = table[i - 1][j - 1] + 1\n",
    "            else:\n",
    "                table[i][j] = max(table[i - 1][j], table[i][j - 1])\n",
    "\n",
    "    return table[m][n]"
   ],
   "metadata": {
    "collapsed": false,
    "ExecuteTime": {
     "end_time": "2024-03-04T15:38:45.185548500Z",
     "start_time": "2024-03-04T15:38:45.136968700Z"
    }
   },
   "id": "10782be64ef2f914"
  },
  {
   "cell_type": "code",
   "execution_count": 7,
   "outputs": [
    {
     "name": "stdout",
     "output_type": "stream",
     "text": [
      "['کیا آپ نے ساری چیزیں رکھی ہیں', 'بدتمیزی نہ کریں', 'یہ کپڑے استری کریں', 'ایک کپ چائے بنادیں', 'آپ کے استاد صاحب آ چکے ہیں', 'جائیں جا کر پڑھیے', 'میں بہت تھکا ہوا ہوں', 'مجھے سونے دو', 'آج پھر آپ کے ٹیچر نے شکایت کی ہے', 'آپ نے سبق یاد نہیں کیا', 'کچن میں آکر بھی تھوڑی مدد کردیں', 'ناشتہ جلدی سے ختم کرو', 'آپ کی گاری آگئی ہے', 'آپ ہر وقت موبائل استعمال کرتے رہتے ہیں', 'کیا آپ نے نماز ادا کرلی', 'گھر کا خیال رکھنا', 'میں بس تھوڑی دیر میں آتا ہوں', 'میں شدید سر درد میں مبتلا ہوں', 'میرے سر میں شدید درد ہو رہا ہے', 'آپ کا فون مسلسل بج رہا ہے', 'آپ فون کیوں نہیں اٹھا رہے ہیں', 'مجھے اس ماہ کے آخر میں تنخواہ ملے گی', 'کیا یہ ڈرامہ دوبارہ ٹیلی کاسٹ کیا جا رہا ہے', 'آپ ذیابیطس کے مریض ہیں', 'دن بدن وہ ضدی ہوتا جارہا ہے', 'صبح سے بجلی نہیں ہے', 'بچوں کے ساتھ بھی کچھ وقت گزارا کریں', 'آپ ہر وقت کام کرتے رہتے ہیں', 'آپ نے اپنی آنکھیں خراب کر لی ہیں ٹی وی دیکھ دیکھ کر', 'آپ نے آج پھر جھوٹ بولا', 'آپ نے پھر دوائی نہیں کھائی', 'ابھی تک سارے برتن گندے پڑے ہیں', 'میں ناشتہ بنانے ہی والا ہوں', 'ماسی آچکی ہے', 'میں نے ابھی صاف کیا', 'آپ نے پھر پورے کمرے کو گندا کر دیا', 'کتنی بار آپ کو کہنا پڑتا ہے', 'آپ کے بابا آپ کو بلا رہے ہیں', 'مجھ سے غلطی ہوگئی', 'کل یہ بل جمع کرادی']\n",
      "             Sentence 1  Sentence 2  Sentence 3  Sentence 4  Sentence 5  \\\n",
      "Sentence 1           29           7          12           9          14   \n",
      "Sentence 2            7          15           7           5           6   \n",
      "Sentence 3           12           7          18           9          11   \n",
      "Sentence 4            9           5           9          18           8   \n",
      "Sentence 5           14           6          11           8          26   \n",
      "Sentence 6            7           6           7           6           7   \n",
      "Sentence 7            8           7           8           7           9   \n",
      "Sentence 8            4           4           4           4           5   \n",
      "Sentence 9           14           6           9           8          12   \n",
      "Sentence 10          14           8           8           9          12   \n",
      "Sentence 11          13           9          11           8           9   \n",
      "Sentence 12           7           6           8           5           7   \n",
      "Sentence 13          11           4           8           6          10   \n",
      "Sentence 14          13           8          11           8          15   \n",
      "Sentence 15          15           7          10          10          12   \n",
      "Sentence 16           8           3           6           7           7   \n",
      "Sentence 17          12           7           9           7          10   \n",
      "Sentence 18          12           8           9           7           9   \n",
      "Sentence 19          12           7           8           6           9   \n",
      "Sentence 20          11           4           6           6          11   \n",
      "\n",
      "             Sentence 6  Sentence 7  Sentence 8  Sentence 9  Sentence 10  \\\n",
      "Sentence 1            7           8           4          14           14   \n",
      "Sentence 2            6           7           4           6            8   \n",
      "Sentence 3            7           8           4           9            8   \n",
      "Sentence 4            6           7           4           8            9   \n",
      "Sentence 5            7           9           5          12           12   \n",
      "Sentence 6           17           6           3           8            6   \n",
      "Sentence 7            6          20           6           8            7   \n",
      "Sentence 8            3           6          12           7            5   \n",
      "Sentence 9            8           8           7          32           12   \n",
      "Sentence 10           6           7           5          12           22   \n",
      "Sentence 11           8          11           6          11            9   \n",
      "Sentence 12           6           6           6           8            6   \n",
      "Sentence 13           7           6           2          13            8   \n",
      "Sentence 14           9          11           5          13           11   \n",
      "Sentence 15           7           7           5          12           12   \n",
      "Sentence 16           6           6           3           9            7   \n",
      "Sentence 17           7          14           7          10           10   \n",
      "Sentence 18           7          11           6           9           10   \n",
      "Sentence 19           7          11           7          12           10   \n",
      "Sentence 20           7           8           4          11           11   \n",
      "\n",
      "             Sentence 11  Sentence 12  Sentence 13  Sentence 14  Sentence 15  \\\n",
      "Sentence 1            13            7           11           13           15   \n",
      "Sentence 2             9            6            4            8            7   \n",
      "Sentence 3            11            8            8           11           10   \n",
      "Sentence 4             8            5            6            8           10   \n",
      "Sentence 5             9            7           10           15           12   \n",
      "Sentence 6             8            6            7            9            7   \n",
      "Sentence 7            11            6            6           11            7   \n",
      "Sentence 8             6            6            2            5            5   \n",
      "Sentence 9            11            8           13           13           12   \n",
      "Sentence 10            9            6            8           11           12   \n",
      "Sentence 11           31           10            8           12           12   \n",
      "Sentence 12           10           21            5           10            9   \n",
      "Sentence 13            8            5           18            9            7   \n",
      "Sentence 14           12           10            9           38           13   \n",
      "Sentence 15           12            9            7           13           23   \n",
      "Sentence 16            6            5            6            8            6   \n",
      "Sentence 17           16            9            9           11            8   \n",
      "Sentence 18           12            9            8           11            8   \n",
      "Sentence 19           13            8            9           12            8   \n",
      "Sentence 20            8            7            9           16            9   \n",
      "\n",
      "             Sentence 16  Sentence 17  Sentence 18  Sentence 19  Sentence 20  \n",
      "Sentence 1             8           12           12           12           11  \n",
      "Sentence 2             3            7            8            7            4  \n",
      "Sentence 3             6            9            9            8            6  \n",
      "Sentence 4             7            7            7            6            6  \n",
      "Sentence 5             7           10            9            9           11  \n",
      "Sentence 6             6            7            7            7            7  \n",
      "Sentence 7             6           14           11           11            8  \n",
      "Sentence 8             3            7            6            7            4  \n",
      "Sentence 9             9           10            9           12           11  \n",
      "Sentence 10            7           10           10           10           11  \n",
      "Sentence 11            6           16           12           13            8  \n",
      "Sentence 12            5            9            9            8            7  \n",
      "Sentence 13            6            9            8            9            9  \n",
      "Sentence 14            8           11           11           12           16  \n",
      "Sentence 15            6            8            8            8            9  \n",
      "Sentence 16           17            6            6            7            8  \n",
      "Sentence 17            6           28           19           15            9  \n",
      "Sentence 18            6           19           29           17            9  \n",
      "Sentence 19            7           15           17           30           11  \n",
      "Sentence 20            8            9            9           11           25  \n"
     ]
    }
   ],
   "source": [
    "# To show better output of the results I used pandas\n",
    "import pandas as pd\n",
    "\n",
    "def read_file(file_path):\n",
    "    with open(file_path, 'r', encoding='utf-8') as file:\n",
    "        sentences = [line.strip() for line in file.readlines() if line.strip()]\n",
    "    return sentences\n",
    "\n",
    "def main():\n",
    "    file_path = 'FOR_LCS.txt'\n",
    "    sentences = read_file(file_path)\n",
    "    print(sentences)\n",
    "    num_sentences = 20\n",
    "\n",
    "    # Create a pandas DataFrame to store the LCS lengths\n",
    "    data = []\n",
    "    columns = [\"Sentence \" + str(i+1) for i in range(num_sentences)]\n",
    "\n",
    "    # Traversing the sentences in the txt file one by one\n",
    "    for i in range(num_sentences):\n",
    "        row = []\n",
    "        for j in range(num_sentences):\n",
    "            lcs_lengths = lcs_length(sentences[i], sentences[j])\n",
    "            row.append(lcs_lengths)\n",
    "        data.append(row)\n",
    "\n",
    "    df = pd.DataFrame(data, columns=columns, index=columns)\n",
    "    print(df)\n",
    "\n",
    "if __name__ == \"__main__\":\n",
    "    main()\n"
   ],
   "metadata": {
    "collapsed": false,
    "ExecuteTime": {
     "end_time": "2024-03-04T15:38:45.799586Z",
     "start_time": "2024-03-04T15:38:45.670176Z"
    }
   },
   "id": "3ff2e4a82ae73f80"
  },
  {
   "cell_type": "code",
   "execution_count": 11,
   "outputs": [
    {
     "name": "stdout",
     "output_type": "stream",
     "text": [
      "Running on local URL:  http://127.0.0.1:7863\n",
      "Running on public URL: https://974165c02e7707fd8c.gradio.live\n",
      "\n",
      "This share link expires in 72 hours. For free permanent hosting and GPU upgrades, run `gradio deploy` from Terminal to deploy to Spaces (https://huggingface.co/spaces)\n"
     ]
    },
    {
     "data": {
      "text/plain": "<IPython.core.display.HTML object>",
      "text/html": "<div><iframe src=\"https://974165c02e7707fd8c.gradio.live\" width=\"100%\" height=\"500\" allow=\"autoplay; camera; microphone; clipboard-read; clipboard-write;\" frameborder=\"0\" allowfullscreen></iframe></div>"
     },
     "metadata": {},
     "output_type": "display_data"
    },
    {
     "data": {
      "text/plain": ""
     },
     "execution_count": 11,
     "metadata": {},
     "output_type": "execute_result"
    }
   ],
   "source": [
    "import gradio as gr\n",
    "from difflib import SequenceMatcher\n",
    "\n",
    "# Here I have created a small interface using gradio to show the working of lcs finder method visually\n",
    "\n",
    "# Interface to show the input and output fields\n",
    "iface = gr.Interface(\n",
    "    fn=lcs_length,\n",
    "    inputs=[\"text\", \"text\"],\n",
    "    outputs=\"text\",\n",
    "    title=\"Longest Common Subsequence\",\n",
    "    description=\"Enter two strings to find the length of the Longest Common Subsequence (LCS) between them.\"\n",
    ")\n",
    "\n",
    "iface.launch(share=True)\n"
   ],
   "metadata": {
    "collapsed": false,
    "ExecuteTime": {
     "end_time": "2024-03-04T17:28:09.493044300Z",
     "start_time": "2024-03-04T17:28:02.515011500Z"
    }
   },
   "id": "f1482ce3bb954164"
  },
  {
   "cell_type": "code",
   "execution_count": null,
   "outputs": [],
   "source": [],
   "metadata": {
    "collapsed": false
   },
   "id": "7c48968ca570adc1"
  }
 ],
 "metadata": {
  "kernelspec": {
   "display_name": "Python 3",
   "language": "python",
   "name": "python3"
  },
  "language_info": {
   "codemirror_mode": {
    "name": "ipython",
    "version": 2
   },
   "file_extension": ".py",
   "mimetype": "text/x-python",
   "name": "python",
   "nbconvert_exporter": "python",
   "pygments_lexer": "ipython2",
   "version": "2.7.6"
  }
 },
 "nbformat": 4,
 "nbformat_minor": 5
}
