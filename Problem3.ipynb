{
 "cells": [
  {
   "cell_type": "markdown",
   "source": [
    "## SYED MUHAMMAD HAMZA\n",
    "# Problem 3"
   ],
   "metadata": {
    "collapsed": false
   },
   "id": "ffc2efc11063f18f"
  },
  {
   "cell_type": "code",
   "execution_count": 8,
   "outputs": [
    {
     "name": "stdout",
     "output_type": "stream",
     "text": [
      "Matrix:\n",
      "0\t1\t1\t\n",
      "0\t0\t1\t\n",
      "0\t1\t1\t\n",
      "0\t1\t0\t\n",
      "0\t0\t0\t\n"
     ]
    }
   ],
   "source": [
    "# Creating Matrix\n",
    "def create_matrix(r, c):\n",
    "    matrix = []\n",
    "    # Traversing Rows\n",
    "    for i in range(r):\n",
    "        row = []\n",
    "        # Traversing Columns\n",
    "        for j in range(c):\n",
    "            n = None\n",
    "            # Taking input from user for specific cell unless entered value is 0 or 1\n",
    "            while n not in (0, 1):\n",
    "                n = int(input(f\"Enter value (0 or 1) for ({i+1},{j+1}): \"))\n",
    "                if n not in (0, 1):\n",
    "                    print(\"Please enter either 0 or 1.\")\n",
    "            row.append(n)\n",
    "        matrix.append(row)\n",
    "    return matrix\n",
    "\n",
    "# Printing Matrix\n",
    "def print_matrix(matrix):\n",
    "    for row in matrix:\n",
    "        for cell in row:\n",
    "            print(cell, end='\\t')\n",
    "        print()\n",
    "\n",
    "def main():\n",
    "    r = int(input(\"Enter number of rows: \"))\n",
    "    c = int(input(\"Enter number of columns: \"))\n",
    "\n",
    "    # Checking if the user has entered rows and columns greater than 0\n",
    "    if r <= 0 or c <= 0:\n",
    "        print(\"Number of rows and columns must be greater than 0.\")\n",
    "        return\n",
    "\n",
    "    matrix = create_matrix(r, c)\n",
    "    print(\"Matrix:\")\n",
    "    print_matrix(matrix)\n",
    "\n",
    "if __name__ == \"__main__\":\n",
    "    main()\n"
   ],
   "metadata": {
    "collapsed": false,
    "ExecuteTime": {
     "end_time": "2024-03-04T15:52:19.223270300Z",
     "start_time": "2024-03-04T15:51:55.954305600Z"
    }
   },
   "id": "144c88f9726921d8"
  },
  {
   "cell_type": "code",
   "execution_count": 13,
   "outputs": [
    {
     "name": "stdout",
     "output_type": "stream",
     "text": [
      "Horizontal Histogram:\n",
      "2\n",
      "5\n",
      "3\n",
      "0\n",
      "0\n",
      "3\n"
     ]
    }
   ],
   "source": [
    "# Get Count\n",
    "def count_histogram(matrix):\n",
    "    histogram = []\n",
    "    count = 0\n",
    "    for row in matrix:\n",
    "        for j in row:\n",
    "            if j == 0:\n",
    "                count += 1   \n",
    "        histogram.append(count)\n",
    "        count = 0\n",
    "    return histogram\n",
    "\n",
    "# Sample Matrix for test\n",
    "matrix = [\n",
    "    [1, 0, 1, 1, 0],\n",
    "    [0, 0, 0, 0, 0],\n",
    "    [1, 0, 0, 1, 0],\n",
    "    [1, 1, 1, 1, 1],\n",
    "    [1, 1, 1, 1, 1],\n",
    "    [0, 1, 0, 1, 0]\n",
    "]\n",
    "\n",
    "# Count horizontal 0 values to compute histogram\n",
    "horizontal_histogram = count_histogram(matrix)\n",
    "\n",
    "print(\"Horizontal Histogram:\")\n",
    "for count in horizontal_histogram:\n",
    "    print(str(count))\n"
   ],
   "metadata": {
    "collapsed": false,
    "ExecuteTime": {
     "end_time": "2024-03-04T15:59:13.111405600Z",
     "start_time": "2024-03-04T15:59:13.082615700Z"
    }
   },
   "id": "d2ece7c48af474"
  },
  {
   "cell_type": "code",
   "execution_count": 15,
   "outputs": [
    {
     "name": "stdout",
     "output_type": "stream",
     "text": [
      "Segment #1\n",
      "1\t1\t1\t1\t1\n",
      "1\t1\t1\t1\t1\n"
     ]
    }
   ],
   "source": [
    "# Calculate Segments of the matrix \n",
    "def segment_matrix(matrix):\n",
    "    segments = []\n",
    "    segment = []\n",
    "    for row in matrix:\n",
    "        # Checking if row contains 0 then add to segments list \n",
    "        if 0 in row:\n",
    "            if segment:\n",
    "                segments.append(segment)\n",
    "                segment = []\n",
    "        # if row doesn't contain 0 then it will have HH 0 and we will segment this one specifically\n",
    "        else:\n",
    "            segment.append(row)\n",
    "\n",
    "    if segment:\n",
    "        segments.append(segment)\n",
    "\n",
    "    return segments\n",
    "\n",
    "# Getting Dimensions of segmented matrix\n",
    "def compute_dimensions(segment):\n",
    "    num_rows = len(segment)\n",
    "    num_cols = len(segment[0])\n",
    "    return num_rows, num_cols\n",
    "\n",
    "\n",
    "def generate_sub_matrices(segments):\n",
    "    sub_matrices = []\n",
    "    for i, segment in enumerate(segments, start=1):\n",
    "        num_rows, num_cols = compute_dimensions(segment)\n",
    "        sub_matrix = [[0] * num_cols for _ in range(num_rows)]\n",
    "        for r in range(num_rows):\n",
    "            for c in range(num_cols):\n",
    "                sub_matrix[r][c] = segment[r][c]\n",
    "        sub_matrices.append(sub_matrix)\n",
    "    return sub_matrices\n",
    "\n",
    "# Printing Sub Matrices\n",
    "def print_sub_matrices(sub_matrices):\n",
    "    for i, sub_matrix in enumerate(sub_matrices, start=1):\n",
    "        print(f\"Segment #{i}\")\n",
    "        for row in sub_matrix:\n",
    "            print('\\t'.join(map(str, row)))\n",
    "        print()\n",
    "\n",
    "\n",
    "# Using Sample matrix to test the method\n",
    "if __name__ == \"__main__\":\n",
    "    matrix = [\n",
    "        [1, 0, 1, 1, 0],\n",
    "        [0, 0, 0, 0, 0],\n",
    "        [1, 0, 0, 1, 0],\n",
    "        [1, 1, 1, 1, 1], # This and \n",
    "        [1, 1, 1, 1, 1], # This will be segmented\n",
    "        [0, 1, 0, 1, 0]\n",
    "    ]\n",
    "\n",
    "    segments = segment_matrix(matrix)\n",
    "    sub_matrices = generate_sub_matrices(segments)\n",
    "    print_sub_matrices(sub_matrices)\n"
   ],
   "metadata": {
    "collapsed": false,
    "ExecuteTime": {
     "end_time": "2024-03-04T16:07:58.736467400Z",
     "start_time": "2024-03-04T16:07:58.718305200Z"
    }
   },
   "id": "da9312a061a855c8"
  },
  {
   "cell_type": "code",
   "execution_count": null,
   "outputs": [],
   "source": [],
   "metadata": {
    "collapsed": false
   },
   "id": "d393de092353d2bb"
  }
 ],
 "metadata": {
  "kernelspec": {
   "display_name": "Python 3",
   "language": "python",
   "name": "python3"
  },
  "language_info": {
   "codemirror_mode": {
    "name": "ipython",
    "version": 2
   },
   "file_extension": ".py",
   "mimetype": "text/x-python",
   "name": "python",
   "nbconvert_exporter": "python",
   "pygments_lexer": "ipython2",
   "version": "2.7.6"
  }
 },
 "nbformat": 4,
 "nbformat_minor": 5
}
